{
 "cells": [
  {
   "cell_type": "markdown",
   "id": "195c455f-bb90-488e-8f3d-2c77b08c6aee",
   "metadata": {},
   "source": [
    "# Class Practice "
   ]
  },
  {
   "cell_type": "code",
   "execution_count": 234,
   "id": "ef014b29-bdeb-4685-9fc2-d9509d32c128",
   "metadata": {},
   "outputs": [],
   "source": [
    "import librosa \n",
    "import librosa.display\n",
    "import pandas as pd\n",
    "import numpy as np\n",
    "import matplotlib.pylab as plt \n",
    "import IPython.display as ipd\n",
    "import random\n",
    "\n",
    "# below found from https://towardsdatascience.com/audio-deep-learning-made-simple-sound-classification-step-by-step-cebc936bbe5\n",
    "import torch\n",
    "import torchaudio\n",
    "from torchaudio import transforms\n",
    "from torch.utils.data import DataLoader, Dataset, random_split"
   ]
  },
  {
   "cell_type": "code",
   "execution_count": 235,
   "id": "717d791f-fb98-43cb-b738-ab09c4b88a62",
   "metadata": {},
   "outputs": [],
   "source": [
    "audio_files = pd.read_csv('audio_files.csv')"
   ]
  },
  {
   "cell_type": "code",
   "execution_count": 236,
   "id": "51328a75-e55b-4d2c-bab1-2770ccba187e",
   "metadata": {},
   "outputs": [],
   "source": [
    "class AudioTransformer:\n",
    "\n",
    "    max_len = 50000\n",
    "\n",
    "    def __init__(self, aud):\n",
    "        self.aud = aud\n",
    "        self.sig = aud[0]\n",
    "        self.sr = aud[1]\n",
    "        self.S_dB = None\n",
    "        self.augmented_melspec = None\n",
    "\n",
    "    def open_audio(self):\n",
    "        self.sig, self.sr = librosa.load(self.aud, sr=22050, mono=True)\n",
    "        return (self.sig, self.sr)\n",
    "\n",
    "    def same_length(self):\n",
    "        sig_len = len(self.sig)\n",
    "        \n",
    "        if (sig_len > self.max_len):\n",
    "            self.sig = sig[:self.max_len]\n",
    "            \n",
    "        elif (sig_len < self.max_len):\n",
    "            diff = self.max_len - sig_len\n",
    "            for i in range(0, diff):\n",
    "                self.sig = np.append(self.sig, 0)\n",
    "        return (self.sig, self.sr)\n",
    "\n",
    "    def time_shift(self):\n",
    "        shift = int(random.random() * len(self.sig))\n",
    "        self.sig = np.roll(self.sig, shift)\n",
    "        return (self.sig, self.sr)\n",
    "\n",
    "    def to_spectrogram(self):\n",
    "        S = librosa.feature.melspectrogram(y=self.sig, sr=self.sr, n_mels=128, fmax=8000)\n",
    "        self.S_dB = librosa.power_to_db(S, ref=np.max)\n",
    "        return (self.S_dB)\n",
    "\n",
    "    def aug_sepctrogram(self, max_mask_pct=0.1):\n",
    "        freq, time = self.S_dB.shape\n",
    "        self.augmented_melspec = self.S_dB.copy()\n",
    "        freq_mask_param = max_mask_pct * freq\n",
    "        time_mask_param = max_mask_pct * time\n",
    "\n",
    "        # Code copied and edited from \n",
    "        # https://www.kaggle.com/code/davids1992/specaugment-quick-implementation\n",
    "        \n",
    "        # Frequency masking\n",
    "        num_freqs_to_mask = int(freq_mask_param * random.uniform(0.5, 1.5))\n",
    "        f0 = int(np.random.uniform(low = 0.0, high = (freq - num_freqs_to_mask)))\n",
    "        self.augmented_melspec[:, f0:(f0 + num_freqs_to_mask)] = 0\n",
    "        # Time masking\n",
    "        num_frames_to_mask = int(time_mask_param * random.uniform(0.5, 1.5))\n",
    "        t0 = int(np.random.uniform(low = 0.0, high = (time - num_frames_to_mask))) \n",
    "        self.augmented_melspec[t0:(t0 + num_frames_to_mask), :] = 0\n",
    "        \n",
    "        return self.augmented_melspec    \n",
    "\n",
    "\n",
    "    "
   ]
  },
  {
   "cell_type": "code",
   "execution_count": null,
   "id": "2b414bbd-632a-4d35-9fdc-342fd6eb8c96",
   "metadata": {},
   "outputs": [],
   "source": [
    "class SoundDS(Dataset, AudioTransformer):\n",
    "  def __init__(self, df, data_path):\n",
    "    self.df = df\n",
    "    self.data_path = str(data_path)\n",
    "    self.duration = 4000\n",
    "    self.sr = 44100\n",
    "    self.channel = 2\n",
    "    self.shift_pct = 0.4\n",
    "            \n",
    "  # ----------------------------\n",
    "  # Number of items in dataset\n",
    "  # ----------------------------\n",
    "  def __len__(self):\n",
    "    return len(self.df)    \n",
    "    \n",
    "  # ----------------------------\n",
    "  # Get i'th item in dataset\n",
    "  # ----------------------------\n",
    "  def __getitem__(self, idx):\n",
    "    # Absolute file path of the audio file - concatenate the audio directory with\n",
    "    # the relative path\n",
    "    audio_file = self.data_path + self.df.loc[idx, 'relative_path']\n",
    "    # Get the Class ID\n",
    "    class_id = self.df.loc[idx, 'classID']\n",
    "\n",
    "    aud = AudioUtil.open(audio_file)"
   ]
  },
  {
   "cell_type": "code",
   "execution_count": 207,
   "id": "b788c5d3-fcbd-45eb-b708-ea401d6c6a57",
   "metadata": {},
   "outputs": [],
   "source": [
    "aud = AudioTransformer('./audio_files/Major/Major_14.wav')"
   ]
  },
  {
   "cell_type": "code",
   "execution_count": 208,
   "id": "3c15edb3-a67d-42dd-91d9-a8338000bd65",
   "metadata": {},
   "outputs": [
    {
     "data": {
      "text/plain": [
       "(array([-0.00417987, -0.0072336 , -0.00686302, ...,  0.        ,\n",
       "         0.        ,  0.        ], dtype=float32),\n",
       " 22050)"
      ]
     },
     "execution_count": 208,
     "metadata": {},
     "output_type": "execute_result"
    }
   ],
   "source": [
    "aud.open_audio()"
   ]
  },
  {
   "cell_type": "code",
   "execution_count": 209,
   "id": "b7d6ead9-6468-4c47-a429-748687a3828b",
   "metadata": {},
   "outputs": [
    {
     "data": {
      "text/plain": [
       "49613"
      ]
     },
     "execution_count": 209,
     "metadata": {},
     "output_type": "execute_result"
    }
   ],
   "source": [
    "len(aud.sig)"
   ]
  },
  {
   "cell_type": "code",
   "execution_count": 210,
   "id": "e6676a66-2ac3-488b-9b44-cf48bb6eb6dd",
   "metadata": {},
   "outputs": [
    {
     "data": {
      "text/plain": [
       "(array([-0.00417987, -0.0072336 , -0.00686302, ...,  0.        ,\n",
       "         0.        ,  0.        ]),\n",
       " 22050)"
      ]
     },
     "execution_count": 210,
     "metadata": {},
     "output_type": "execute_result"
    }
   ],
   "source": [
    "aud.same_length()"
   ]
  },
  {
   "cell_type": "code",
   "execution_count": 211,
   "id": "8ce380ff-3244-47ba-99a9-8e4c7f7a6eed",
   "metadata": {},
   "outputs": [
    {
     "data": {
      "text/plain": [
       "50000"
      ]
     },
     "execution_count": 211,
     "metadata": {},
     "output_type": "execute_result"
    }
   ],
   "source": [
    "len(aud.sig)"
   ]
  },
  {
   "cell_type": "code",
   "execution_count": 212,
   "id": "76054be8-6063-45bf-97e1-2145cb799553",
   "metadata": {},
   "outputs": [
    {
     "data": {
      "text/plain": [
       "array([-0.36181533, -0.38614962, -0.38785923, ..., -0.19787405,\n",
       "       -0.26125929, -0.31809431])"
      ]
     },
     "execution_count": 212,
     "metadata": {},
     "output_type": "execute_result"
    }
   ],
   "source": [
    "aud.time_shift()[0]"
   ]
  },
  {
   "cell_type": "code",
   "execution_count": 213,
   "id": "15095a2f-a751-43cd-8687-9751da965a96",
   "metadata": {},
   "outputs": [
    {
     "data": {
      "text/plain": [
       "array([[-28.89337529, -29.30090881, -30.81258143, ..., -24.96281878,\n",
       "        -26.59259358, -29.5483308 ],\n",
       "       [-30.20599747, -31.29170477, -31.88413942, ..., -24.60487479,\n",
       "        -28.45720549, -25.73152397],\n",
       "       [-29.20876613, -30.46640793, -31.45494321, ..., -21.58733045,\n",
       "        -25.07254542, -22.39471643],\n",
       "       ...,\n",
       "       [-50.1324258 , -56.12306483, -69.83887481, ..., -80.        ,\n",
       "        -72.89991573, -52.50353982],\n",
       "       [-50.26035558, -56.20937045, -67.91059183, ..., -80.        ,\n",
       "        -73.04562544, -52.64643902],\n",
       "       [-50.38092741, -56.38192767, -72.85031672, ..., -80.        ,\n",
       "        -73.16822494, -52.77505385]])"
      ]
     },
     "execution_count": 213,
     "metadata": {},
     "output_type": "execute_result"
    }
   ],
   "source": [
    "aud.to_spectrogram()"
   ]
  },
  {
   "cell_type": "code",
   "execution_count": 232,
   "id": "7c501251-4e97-4bf0-bf01-5cd879b07a10",
   "metadata": {},
   "outputs": [
    {
     "data": {
      "text/plain": [
       "array([[-28.89337529, -29.30090881, -30.81258143, ..., -24.96281878,\n",
       "        -26.59259358, -29.5483308 ],\n",
       "       [-30.20599747, -31.29170477, -31.88413942, ..., -24.60487479,\n",
       "        -28.45720549, -25.73152397],\n",
       "       [-29.20876613, -30.46640793, -31.45494321, ..., -21.58733045,\n",
       "        -25.07254542, -22.39471643],\n",
       "       ...,\n",
       "       [-50.1324258 , -56.12306483, -69.83887481, ..., -80.        ,\n",
       "        -72.89991573, -52.50353982],\n",
       "       [-50.26035558, -56.20937045, -67.91059183, ..., -80.        ,\n",
       "        -73.04562544, -52.64643902],\n",
       "       [-50.38092741, -56.38192767, -72.85031672, ..., -80.        ,\n",
       "        -73.16822494, -52.77505385]])"
      ]
     },
     "execution_count": 232,
     "metadata": {},
     "output_type": "execute_result"
    }
   ],
   "source": [
    "aud.aug_sepctrogram()"
   ]
  },
  {
   "cell_type": "code",
   "execution_count": 233,
   "id": "973967cd-9c0b-4c64-be7f-e2cd35f3d3e7",
   "metadata": {},
   "outputs": [
    {
     "data": {
      "text/plain": [
       "[Text(0.5, 1.0, 'Mel-frequency spectrogram')]"
      ]
     },
     "execution_count": 233,
     "metadata": {},
     "output_type": "execute_result"
    },
    {
     "data": {
      "image/png": "[encoded data removed]",
      "text/plain": [
       "<Figure size 640x480 with 2 Axes>"
      ]
     },
     "metadata": {},
     "output_type": "display_data"
    }
   ],
   "source": [
    "fig, ax = plt.subplots()\n",
    "img = librosa.display.specshow(aud.augmented_melspec, x_axis='time',\n",
    "                         y_axis='mel', sr=aud.sr,\n",
    "                         fmax=8000, ax=ax)\n",
    "fig.colorbar(img, ax=ax, format='%+2.0f dB')\n",
    "ax.set(title='Mel-frequency spectrogram')"
   ]
  },
  {
   "cell_type": "code",
   "execution_count": null,
   "id": "36fb6f87-d7c1-4fb4-92c2-78ef81910f54",
   "metadata": {},
   "outputs": [],
   "source": []
  }
 ],
 "metadata": {
  "kernelspec": {
   "display_name": "Python 3 (ipykernel)",
   "language": "python",
   "name": "python3"
  },
  "language_info": {
   "codemirror_mode": {
    "name": "ipython",
    "version": 3
   },
   "file_extension": ".py",
   "mimetype": "text/x-python",
   "name": "python",
   "nbconvert_exporter": "python",
   "pygments_lexer": "ipython3",
   "version": "3.11.5"
  }
 },
 "nbformat": 4,
 "nbformat_minor": 5
}
