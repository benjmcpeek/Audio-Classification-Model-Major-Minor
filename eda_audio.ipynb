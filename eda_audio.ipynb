{
 "cells": [
  {
   "cell_type": "markdown",
   "id": "54a63a04-3ab6-4826-afd9-e1a80eb2ec6b",
   "metadata": {},
   "source": [
    "# EDA \n",
    "\n",
    "**Summary**\n",
    "\n",
    "In this notebook I will create a dataframe from the metedata of each audio file. \n",
    "I will also explore the characteristics of each audio file. "
   ]
  },
  {
   "cell_type": "code",
   "execution_count": 14,
   "id": "2251948d-5754-4584-b6d8-82486f2522b5",
   "metadata": {
    "tags": []
   },
   "outputs": [],
   "source": [
    "import librosa \n",
    "from tinytag import TinyTag\n",
    "import pandas as pd\n",
    "import os"
   ]
  },
  {
   "cell_type": "code",
   "execution_count": 13,
   "id": "dc9fc456-6ba1-4de3-ba6d-548f98d056a4",
   "metadata": {
    "tags": []
   },
   "outputs": [],
   "source": [
    "y, sr = librosa.load('./audio_files/Major/Major_0.wav')"
   ]
  },
  {
   "cell_type": "code",
   "execution_count": 16,
   "id": "a1c839dd-21f1-4c04-a859-e7287f17eed4",
   "metadata": {
    "tags": []
   },
   "outputs": [
    {
     "data": {
      "text/plain": [
       "['Major', 'Minor']"
      ]
     },
     "execution_count": 16,
     "metadata": {},
     "output_type": "execute_result"
    }
   ],
   "source": [
    "os.listdir('audio_files')"
   ]
  },
  {
   "cell_type": "code",
   "execution_count": 18,
   "id": "c2bfb6ff-3bf4-45c7-91c1-9b19e362e3ae",
   "metadata": {
    "tags": []
   },
   "outputs": [],
   "source": [
    "maj = os.listdir('audio_files/Major')\n",
    "minor = os.listdir('audio_files/Minor')"
   ]
  },
  {
   "cell_type": "code",
   "execution_count": 21,
   "id": "e127c56f-e426-4e1a-ba4a-8daa489832a7",
   "metadata": {
    "tags": []
   },
   "outputs": [
    {
     "data": {
      "text/plain": [
       "(502, 357)"
      ]
     },
     "execution_count": 21,
     "metadata": {},
     "output_type": "execute_result"
    }
   ],
   "source": [
    "len(maj), len(minor)"
   ]
  },
  {
   "cell_type": "code",
   "execution_count": 22,
   "id": "f53cb4fa-3648-4546-a33f-741d42b6ea09",
   "metadata": {
    "tags": []
   },
   "outputs": [],
   "source": [
    "maj = maj[0:357]"
   ]
  },
  {
   "cell_type": "code",
   "execution_count": 23,
   "id": "1e5baef4-356c-4d13-851a-6a5da8faea3b",
   "metadata": {
    "tags": []
   },
   "outputs": [
    {
     "data": {
      "text/plain": [
       "357"
      ]
     },
     "execution_count": 23,
     "metadata": {},
     "output_type": "execute_result"
    }
   ],
   "source": [
    "len(maj)"
   ]
  },
  {
   "cell_type": "code",
   "execution_count": 33,
   "id": "055f515b-b0a7-46cf-87f1-7487fe3c1b49",
   "metadata": {
    "tags": []
   },
   "outputs": [],
   "source": [
    "maj = pd.Series(maj)\n",
    "minor = pd.Series(minor)"
   ]
  },
  {
   "cell_type": "code",
   "execution_count": 41,
   "id": "92c47d46-c9ef-4a09-b3f4-30a9510a7e61",
   "metadata": {
    "tags": []
   },
   "outputs": [],
   "source": [
    "df = pd.concat([maj, minor], axis=0)"
   ]
  },
  {
   "cell_type": "code",
   "execution_count": 52,
   "id": "432772fe-d2e7-4a87-81cf-f786d922681c",
   "metadata": {
    "tags": []
   },
   "outputs": [],
   "source": [
    "df = pd.DataFrame(df)\n",
    "df = df.rename(columns={0:'chord_quality'})"
   ]
  },
  {
   "cell_type": "code",
   "execution_count": 59,
   "id": "f875b3e1-9636-43a8-8908-6f0019faf6b6",
   "metadata": {
    "tags": []
   },
   "outputs": [],
   "source": [
    "df['type'] = [0 if i[0:5] == 'Major' else 1 for i in df['chord_quality']]"
   ]
  },
  {
   "cell_type": "code",
   "execution_count": 60,
   "id": "5369afa0-532e-490c-9e43-c76581a9a956",
   "metadata": {
    "tags": []
   },
   "outputs": [
    {
     "data": {
      "text/html": [
       "<div>\n",
       "<style scoped>\n",
       "    .dataframe tbody tr th:only-of-type {\n",
       "        vertical-align: middle;\n",
       "    }\n",
       "\n",
       "    .dataframe tbody tr th {\n",
       "        vertical-align: top;\n",
       "    }\n",
       "\n",
       "    .dataframe thead th {\n",
       "        text-align: right;\n",
       "    }\n",
       "</style>\n",
       "<table border=\"1\" class=\"dataframe\">\n",
       "  <thead>\n",
       "    <tr style=\"text-align: right;\">\n",
       "      <th></th>\n",
       "      <th>chord_quality</th>\n",
       "      <th>type</th>\n",
       "    </tr>\n",
       "  </thead>\n",
       "  <tbody>\n",
       "    <tr>\n",
       "      <th>0</th>\n",
       "      <td>Major_500.wav</td>\n",
       "      <td>0</td>\n",
       "    </tr>\n",
       "    <tr>\n",
       "      <th>1</th>\n",
       "      <td>Major_266.wav</td>\n",
       "      <td>0</td>\n",
       "    </tr>\n",
       "    <tr>\n",
       "      <th>2</th>\n",
       "      <td>Major_272.wav</td>\n",
       "      <td>0</td>\n",
       "    </tr>\n",
       "    <tr>\n",
       "      <th>3</th>\n",
       "      <td>Major_299.wav</td>\n",
       "      <td>0</td>\n",
       "    </tr>\n",
       "    <tr>\n",
       "      <th>4</th>\n",
       "      <td>Major_474.wav</td>\n",
       "      <td>0</td>\n",
       "    </tr>\n",
       "    <tr>\n",
       "      <th>...</th>\n",
       "      <td>...</td>\n",
       "      <td>...</td>\n",
       "    </tr>\n",
       "    <tr>\n",
       "      <th>352</th>\n",
       "      <td>Minor_215.wav</td>\n",
       "      <td>1</td>\n",
       "    </tr>\n",
       "    <tr>\n",
       "      <th>353</th>\n",
       "      <td>Minor_201.wav</td>\n",
       "      <td>1</td>\n",
       "    </tr>\n",
       "    <tr>\n",
       "      <th>354</th>\n",
       "      <td>Minor_229.wav</td>\n",
       "      <td>1</td>\n",
       "    </tr>\n",
       "    <tr>\n",
       "      <th>355</th>\n",
       "      <td>Minor_23.wav</td>\n",
       "      <td>1</td>\n",
       "    </tr>\n",
       "    <tr>\n",
       "      <th>356</th>\n",
       "      <td>Minor_37.wav</td>\n",
       "      <td>1</td>\n",
       "    </tr>\n",
       "  </tbody>\n",
       "</table>\n",
       "<p>714 rows × 2 columns</p>\n",
       "</div>"
      ],
      "text/plain": [
       "     chord_quality  type\n",
       "0    Major_500.wav     0\n",
       "1    Major_266.wav     0\n",
       "2    Major_272.wav     0\n",
       "3    Major_299.wav     0\n",
       "4    Major_474.wav     0\n",
       "..             ...   ...\n",
       "352  Minor_215.wav     1\n",
       "353  Minor_201.wav     1\n",
       "354  Minor_229.wav     1\n",
       "355   Minor_23.wav     1\n",
       "356   Minor_37.wav     1\n",
       "\n",
       "[714 rows x 2 columns]"
      ]
     },
     "execution_count": 60,
     "metadata": {},
     "output_type": "execute_result"
    }
   ],
   "source": [
    "df"
   ]
  }
 ],
 "metadata": {
  "kernelspec": {
   "display_name": "Python 3 (ipykernel)",
   "language": "python",
   "name": "python3"
  },
  "language_info": {
   "codemirror_mode": {
    "name": "ipython",
    "version": 3
   },
   "file_extension": ".py",
   "mimetype": "text/x-python",
   "name": "python",
   "nbconvert_exporter": "python",
   "pygments_lexer": "ipython3",
   "version": "3.11.3"
  }
 },
 "nbformat": 4,
 "nbformat_minor": 5
}
