{
 "cells": [
  {
   "cell_type": "markdown",
   "id": "b01df7f8-da6e-4d75-a3f9-8ac3a06c5081",
   "metadata": {},
   "source": [
    "# Audio Preprocessing \n",
    "\n",
    "- create a class that can read in audio and clean it "
   ]
  },
  {
   "cell_type": "code",
   "execution_count": null,
   "id": "cc129c53-653b-415d-9751-c65a3b2913ab",
   "metadata": {},
   "outputs": [],
   "source": [
    "import librosa \n",
    "from tinytag import TinyTag\n",
    "import pandas as pd\n",
    "import os"
   ]
  },
  {
   "cell_type": "code",
   "execution_count": null,
   "id": "d568976e-f874-4203-97a6-19823381fab4",
   "metadata": {},
   "outputs": [],
   "source": [
    "y, sr = librosa.load('./audio_files/Major/Major_0.wav')"
   ]
  },
  {
   "cell_type": "code",
   "execution_count": null,
   "id": "2d9120e2-df85-4159-bd90-540f88594246",
   "metadata": {},
   "outputs": [],
   "source": []
  },
  {
   "cell_type": "code",
   "execution_count": null,
   "id": "edf27aa7-4048-46a9-861b-f83e96cea9a4",
   "metadata": {},
   "outputs": [],
   "source": []
  },
  {
   "cell_type": "code",
   "execution_count": null,
   "id": "cd0b9295-fb5e-4784-9b56-716fbb41355e",
   "metadata": {},
   "outputs": [],
   "source": []
  },
  {
   "cell_type": "code",
   "execution_count": null,
   "id": "a2a55622-47c6-4433-9227-79fcff9b6159",
   "metadata": {},
   "outputs": [],
   "source": []
  },
  {
   "cell_type": "code",
   "execution_count": null,
   "id": "54991546-35a6-4521-87e1-8b1c6179ef74",
   "metadata": {},
   "outputs": [],
   "source": []
  },
  {
   "cell_type": "code",
   "execution_count": null,
   "id": "f69f2d76-04f1-43ba-a93e-c1049bc3322f",
   "metadata": {},
   "outputs": [],
   "source": []
  },
  {
   "cell_type": "code",
   "execution_count": null,
   "id": "34be6a8c-be69-41c2-b657-32e162a5480d",
   "metadata": {},
   "outputs": [],
   "source": []
  },
  {
   "cell_type": "code",
   "execution_count": null,
   "id": "feb8d421-4a19-4042-9901-24f71e2df4c7",
   "metadata": {},
   "outputs": [],
   "source": []
  }
 ],
 "metadata": {
  "kernelspec": {
   "display_name": "Python 3 (ipykernel)",
   "language": "python",
   "name": "python3"
  },
  "language_info": {
   "codemirror_mode": {
    "name": "ipython",
    "version": 3
   },
   "file_extension": ".py",
   "mimetype": "text/x-python",
   "name": "python",
   "nbconvert_exporter": "python",
   "pygments_lexer": "ipython3",
   "version": "3.11.4"
  }
 },
 "nbformat": 4,
 "nbformat_minor": 5
}
