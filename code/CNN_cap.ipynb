{
 "cells": [
  {
   "cell_type": "code",
   "execution_count": 16,
   "metadata": {
    "id": "TNIvii-pmAQb"
   },
   "outputs": [],
   "source": [
    "from numpy.random import seed\n",
    "seed(1)\n",
    "from tensorflow.keras.utils import set_random_seed\n",
    "set_random_seed(2)"
   ]
  },
  {
   "cell_type": "code",
   "execution_count": 23,
   "metadata": {
    "id": "oTcgg-djcOMa"
   },
   "outputs": [],
   "source": [
    "import pandas as pd\n",
    "import numpy as np\n",
    "import matplotlib.pyplot as plt\n",
    "import seaborn as sns\n",
    "import os\n",
    "\n",
    "from tensorflow.keras.utils import image_dataset_from_directory, load_img, img_to_array, normalize\n",
    "from tensorflow.keras.models import Sequential\n",
    "from tensorflow.keras.layers import Dense, Dropout, Flatten, Conv2D, MaxPooling2D, Rescaling\n",
    "from tensorflow.keras.regularizers import l1, l2, l1_l2\n",
    "from tensorflow.keras.callbacks import EarlyStopping"
   ]
  },
  {
   "cell_type": "code",
   "execution_count": 6,
   "metadata": {
    "colab": {
     "base_uri": "https://localhost:8080/"
    },
    "id": "te-rHiZdcdQn",
    "outputId": "671e9014-7e56-40a9-ad40-18816e84a79b"
   },
   "outputs": [
    {
     "data": {
      "text/plain": [
       "['minor', 'major']"
      ]
     },
     "execution_count": 6,
     "metadata": {},
     "output_type": "execute_result"
    }
   ],
   "source": [
    "os.listdir('drive/MyDrive/data')"
   ]
  },
  {
   "cell_type": "code",
   "execution_count": 18,
   "metadata": {
    "colab": {
     "base_uri": "https://localhost:8080/"
    },
    "id": "uSiy3YyVbBM8",
    "outputId": "cdc949da-d57d-497a-a095-d7e9bf840701"
   },
   "outputs": [
    {
     "name": "stdout",
     "output_type": "stream",
     "text": [
      "Found 859 files belonging to 2 classes.\n",
      "Using 645 files for training.\n",
      "Found 859 files belonging to 2 classes.\n",
      "Using 214 files for validation.\n"
     ]
    }
   ],
   "source": [
    "img_train = image_dataset_from_directory('drive/MyDrive/data',\n",
    "                                         validation_split = 0.25,\n",
    "                                         image_size = (70, 70), # resized to exactly one fifth in size\n",
    "                                         subset = 'training',\n",
    "                                         seed = 42)\n",
    "\n",
    "# create a test set of the representing 25% of the images\n",
    "img_test = image_dataset_from_directory('drive/MyDrive/data',\n",
    "                                         validation_split = 0.25,\n",
    "                                         image_size = (70, 70),  # resized to exactly one fifth in size\n",
    "                                         subset = 'validation',\n",
    "                                         seed = 42)"
   ]
  },
  {
   "cell_type": "code",
   "execution_count": 25,
   "metadata": {
    "id": "dqPRlvUNljeE"
   },
   "outputs": [],
   "source": [
    "# img_train = normalize(img_train, axis=1)\n",
    "# img_test = normalize(img_test, axis=1)"
   ]
  },
  {
   "cell_type": "code",
   "execution_count": 30,
   "metadata": {
    "id": "sET2u6mwefc0"
   },
   "outputs": [],
   "source": [
    "\n",
    "es = EarlyStopping(patience = 10)\n",
    "\n",
    "base_model = Sequential()\n",
    "\n",
    "base_model.add(Conv2D(16, 3, activation='relu', input_shape=(70, 70, 3)))\n",
    "base_model.add(MaxPooling2D(2))\n",
    "\n",
    "base_model.add(Conv2D(64, 3, activation='relu'))\n",
    "base_model.add(MaxPooling2D(2))\n",
    "\n",
    "base_model.add(Flatten())\n",
    "base_model.add(Dense(1, activation='sigmoid'))"
   ]
  },
  {
   "cell_type": "code",
   "execution_count": 31,
   "metadata": {
    "id": "0y6jJLyqefkx"
   },
   "outputs": [],
   "source": [
    "base_model.compile(loss='binary_crossentropy', optimizer='adam', metrics=['acc'])"
   ]
  },
  {
   "cell_type": "code",
   "execution_count": 32,
   "metadata": {
    "colab": {
     "base_uri": "https://localhost:8080/"
    },
    "id": "UBz9P5B7ioLj",
    "outputId": "51c71866-fb9f-4d90-d3f1-dcc0b4465d15"
   },
   "outputs": [
    {
     "name": "stdout",
     "output_type": "stream",
     "text": [
      "Epoch 1/100\n",
      "21/21 [==============================] - 7s 224ms/step - loss: 19.4588 - acc: 0.5333 - val_loss: 6.7651 - val_acc: 0.4439\n",
      "Epoch 2/100\n",
      "21/21 [==============================] - 7s 296ms/step - loss: 2.3973 - acc: 0.5504 - val_loss: 1.8527 - val_acc: 0.5327\n",
      "Epoch 3/100\n",
      "21/21 [==============================] - 6s 228ms/step - loss: 0.9597 - acc: 0.6124 - val_loss: 1.2366 - val_acc: 0.4533\n",
      "Epoch 4/100\n",
      "21/21 [==============================] - 6s 226ms/step - loss: 0.5847 - acc: 0.7395 - val_loss: 1.2073 - val_acc: 0.4626\n",
      "Epoch 5/100\n",
      "21/21 [==============================] - 8s 255ms/step - loss: 0.4787 - acc: 0.7643 - val_loss: 1.1716 - val_acc: 0.4626\n",
      "Epoch 6/100\n",
      "21/21 [==============================] - 8s 311ms/step - loss: 0.3644 - acc: 0.8465 - val_loss: 1.1892 - val_acc: 0.4393\n",
      "Epoch 7/100\n",
      "21/21 [==============================] - 6s 229ms/step - loss: 0.3040 - acc: 0.8636 - val_loss: 1.2198 - val_acc: 0.4533\n",
      "Epoch 8/100\n",
      "21/21 [==============================] - 7s 300ms/step - loss: 0.1960 - acc: 0.9411 - val_loss: 1.2640 - val_acc: 0.4626\n",
      "Epoch 9/100\n",
      "21/21 [==============================] - 6s 228ms/step - loss: 0.1658 - acc: 0.9643 - val_loss: 1.2711 - val_acc: 0.4579\n",
      "Epoch 10/100\n",
      "21/21 [==============================] - 6s 228ms/step - loss: 0.1228 - acc: 0.9876 - val_loss: 1.3390 - val_acc: 0.4953\n",
      "Epoch 11/100\n",
      "21/21 [==============================] - 8s 266ms/step - loss: 0.0996 - acc: 0.9860 - val_loss: 1.3381 - val_acc: 0.4579\n",
      "Epoch 12/100\n",
      "21/21 [==============================] - 7s 281ms/step - loss: 0.0698 - acc: 0.9969 - val_loss: 1.3330 - val_acc: 0.4673\n",
      "Epoch 13/100\n",
      "21/21 [==============================] - 6s 219ms/step - loss: 0.0621 - acc: 1.0000 - val_loss: 1.3809 - val_acc: 0.4813\n",
      "Epoch 14/100\n",
      "21/21 [==============================] - 8s 338ms/step - loss: 0.0730 - acc: 0.9922 - val_loss: 1.5120 - val_acc: 0.4953\n",
      "Epoch 15/100\n",
      "21/21 [==============================] - 6s 228ms/step - loss: 0.0483 - acc: 1.0000 - val_loss: 1.4682 - val_acc: 0.4813\n"
     ]
    }
   ],
   "source": [
    "hist = base_model.fit(img_train, validation_data=(img_test), batch_size=32, epochs=100, callbacks=[es])"
   ]
  },
  {
   "cell_type": "code",
   "execution_count": null,
   "metadata": {
    "id": "R0kw_nOxef0j"
   },
   "outputs": [],
   "source": []
  },
  {
   "cell_type": "code",
   "execution_count": null,
   "metadata": {
    "id": "pMzr2Qzqef8D"
   },
   "outputs": [],
   "source": []
  }
 ],
 "metadata": {
  "colab": {
   "provenance": []
  },
  "kernelspec": {
   "display_name": "Python 3 (ipykernel)",
   "language": "python",
   "name": "python3"
  },
  "language_info": {
   "codemirror_mode": {
    "name": "ipython",
    "version": 3
   },
   "file_extension": ".py",
   "mimetype": "text/x-python",
   "name": "python",
   "nbconvert_exporter": "python",
   "pygments_lexer": "ipython3",
   "version": "3.11.4"
  }
 },
 "nbformat": 4,
 "nbformat_minor": 4
}
