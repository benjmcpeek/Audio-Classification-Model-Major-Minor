{
 "cells": [
  {
   "cell_type": "markdown",
   "metadata": {
    "id": "TbTdNoxzYw5a"
   },
   "source": [
    "# Image Classification Modeling\n",
    "\n",
    "**Summary**\n",
    "\n",
    "In this notebook we will develop three different image classification Keras models to determine spectrogram images of minor and major chords.\n",
    "We will start by creating a baseline convolutional neural network with two hidden layers. Our null baseline accuracy will be 58% because that is\n",
    "the higher proportion of our class data. We will determine a models success by whether or not it exceeds our null baseline and baseline model.\n",
    "We will use regression techniques to improve our baseline model, then use VGG16 and ResNet as transfer learning models."
   ]
  },
  {
   "cell_type": "code",
   "execution_count": 38,
   "metadata": {
    "id": "oTcgg-djcOMa"
   },
   "outputs": [],
   "source": [
    "# Imports to visualize data, and filter through directories\n",
    "import pandas as pd\n",
    "import numpy as np\n",
    "from numpy.random import seed\n",
    "import matplotlib.pyplot as plt\n",
    "import os\n",
    "\n",
    "# Imports for CNN models\n",
    "from tensorflow.keras.utils import image_dataset_from_directory, load_img, img_to_array, normalize, set_random_seed\n",
    "from tensorflow.keras.models import Sequential\n",
    "from tensorflow.keras.layers import Dense, Dropout, Flatten, Conv2D, MaxPooling2D, GlobalAveragePooling2D\n",
    "from tensorflow.keras.regularizers import l1, l2, l1_l2\n",
    "from tensorflow.keras.callbacks import EarlyStopping, ModelCheckpoint\n",
    "\n",
    "# Imports for VGG16 Model\n",
    "import tensorflow as tf\n",
    "from tensorflow.keras.applications import VGG16\n",
    "from tensorflow.keras.applications.vgg16 import preprocess_input\n",
    "from tensorflow.keras.preprocessing.image import ImageDataGenerator\n",
    "from tensorflow.keras import layers\n",
    "\n",
    "# Imports for InceptionV3\n",
    "from tensorflow.keras.applications.inception_v3 import InceptionV3\n",
    "from tensorflow.keras.preprocessing import image\n",
    "from tensorflow.keras.models import Model"
   ]
  },
  {
   "cell_type": "code",
   "execution_count": 15,
   "metadata": {
    "id": "TNIvii-pmAQb"
   },
   "outputs": [],
   "source": [
    "# Generating a random seed for this notebook to reduce any variation in out results.\n",
    "#seed(1)\n",
    "#set_random_seed(2)"
   ]
  },
  {
   "cell_type": "code",
   "execution_count": 39,
   "metadata": {
    "colab": {
     "base_uri": "https://localhost:8080/"
    },
    "id": "uSiy3YyVbBM8",
    "outputId": "48bd371d-55d6-41bd-f152-9188b27b4b05"
   },
   "outputs": [
    {
     "name": "stdout",
     "output_type": "stream",
     "text": [
      "Found 2577 files belonging to 2 classes.\n",
      "Using 1933 files for training.\n",
      "Found 2577 files belonging to 2 classes.\n",
      "Using 644 files for validation.\n"
     ]
    }
   ],
   "source": [
    "# Gathering image data from a Google Drive containing two folders, one for each class (major, minor)\n",
    "# Collecting data and converting it into a tf.data.Dataset object consisting of a train and test set.\n",
    "img_train = image_dataset_from_directory('drive/MyDrive/scaled_data',\n",
    "                                         validation_split = 0.25,\n",
    "                                         image_size = (128, 128),\n",
    "                                         subset = 'training',\n",
    "                                         color_mode='rgb',\n",
    "                                         seed = 42)\n",
    "\n",
    "img_test = image_dataset_from_directory('drive/MyDrive/scaled_data',\n",
    "                                         validation_split = 0.25,\n",
    "                                         image_size = (128, 128),\n",
    "                                         subset = 'validation',\n",
    "                                         color_mode='rgb',\n",
    "                                         seed = 42)"
   ]
  },
  {
   "cell_type": "code",
   "execution_count": null,
   "metadata": {
    "id": "dhew53K9LGWV"
   },
   "outputs": [],
   "source": [
    "# # Confirming no class imbalance for my 6 target outputs\n",
    "# # If data is imbalanced, use class weights.\n",
    "\n",
    "# base_directory = '/content/drive/MyDrive/GitHub Personal/speech-emotion-recognition/plots/spectograms'\n",
    "\n",
    "# image_counts = {}\n",
    "\n",
    "# # Iterate over subdirectories\n",
    "# for subfolder in os.listdir(base_directory):\n",
    "#     subfolder_path = os.path.join(base_directory, subfolder)\n",
    "#     if os.path.isdir(subfolder_path):\n",
    "#         # Count the number of files with .png extension in the subfolder\n",
    "#         num_images = len([filename for filename in os.listdir(subfolder_path) if filename.endswith('.png')])\n",
    "#         image_counts[subfolder] = num_images\n",
    "\n",
    "# # Print counts for each subfolder\n",
    "# for subfolder, count in image_counts.items():\n",
    "#     print(f\"Subfolder '{subfolder}': {count} images\")"
   ]
  },
  {
   "cell_type": "code",
   "execution_count": null,
   "metadata": {
    "id": "O8zFzreZRaqm"
   },
   "outputs": [],
   "source": [
    "# CNN Baseline Model"
   ]
  },
  {
   "cell_type": "code",
   "execution_count": 40,
   "metadata": {
    "id": "sET2u6mwefc0"
   },
   "outputs": [],
   "source": [
    "# Increasing number of filters in each Conv2D to capture more complex features\n",
    "# and decreasing number of nodes in our Dense layers to focus our model on the most import features.\n",
    "\n",
    "\n",
    "base_model = Sequential()\n",
    "\n",
    "base_model.add(Conv2D(filters = 64, kernel_size = (3, 3), activation='relu', input_shape=(128, 128, 3)))\n",
    "base_model.add(MaxPooling2D(pool_size = (2, 2)))\n",
    "\n",
    "base_model.add(Conv2D(filters = 128, kernel_size = (3, 3), activation='relu'))\n",
    "base_model.add(MaxPooling2D(pool_size = (2, 2)))\n",
    "\n",
    "base_model.add(Flatten())\n",
    "\n",
    "base_model.add(Dense(16, activation='relu'))\n",
    "\n",
    "base_model.add(Dense(1, activation='sigmoid'))"
   ]
  },
  {
   "cell_type": "code",
   "execution_count": 41,
   "metadata": {
    "id": "0y6jJLyqefkx"
   },
   "outputs": [],
   "source": [
    "base_model.compile(loss='binary_crossentropy', optimizer='adam', metrics=['acc'])"
   ]
  },
  {
   "cell_type": "code",
   "execution_count": 42,
   "metadata": {
    "colab": {
     "base_uri": "https://localhost:8080/"
    },
    "id": "UBz9P5B7ioLj",
    "outputId": "5cc422d8-8654-4267-afed-a6a802e06617"
   },
   "outputs": [
    {
     "name": "stdout",
     "output_type": "stream",
     "text": [
      "Epoch 1/10\n",
      "61/61 [==============================] - 269s 4s/step - loss: 49.7704 - acc: 0.5717 - val_loss: 0.6911 - val_acc: 0.5792\n",
      "Epoch 2/10\n",
      "61/61 [==============================] - 77s 1s/step - loss: 0.6887 - acc: 0.5861 - val_loss: 0.6870 - val_acc: 0.5792\n",
      "Epoch 3/10\n",
      "61/61 [==============================] - 78s 1s/step - loss: 0.6847 - acc: 0.5861 - val_loss: 0.6839 - val_acc: 0.5792\n",
      "Epoch 4/10\n",
      "61/61 [==============================] - 78s 1s/step - loss: 0.6819 - acc: 0.5861 - val_loss: 0.6821 - val_acc: 0.5792\n",
      "Epoch 5/10\n",
      "61/61 [==============================] - 80s 1s/step - loss: 0.6802 - acc: 0.5861 - val_loss: 0.6812 - val_acc: 0.5792\n",
      "Epoch 6/10\n",
      "61/61 [==============================] - 79s 1s/step - loss: 0.6792 - acc: 0.5861 - val_loss: 0.6807 - val_acc: 0.5792\n",
      "Epoch 7/10\n",
      "61/61 [==============================] - 80s 1s/step - loss: 0.6787 - acc: 0.5861 - val_loss: 0.6806 - val_acc: 0.5792\n",
      "Epoch 8/10\n",
      "61/61 [==============================] - 80s 1s/step - loss: 0.6786 - acc: 0.5861 - val_loss: 0.6806 - val_acc: 0.5792\n",
      "Epoch 9/10\n",
      "61/61 [==============================] - 79s 1s/step - loss: 0.6784 - acc: 0.5861 - val_loss: 0.6806 - val_acc: 0.5792\n",
      "Epoch 10/10\n",
      "61/61 [==============================] - 78s 1s/step - loss: 0.6784 - acc: 0.5861 - val_loss: 0.6806 - val_acc: 0.5792\n"
     ]
    }
   ],
   "source": [
    "base = base_model.fit(img_train, validation_data=img_test, batch_size=64, epochs=10)"
   ]
  },
  {
   "cell_type": "code",
   "execution_count": null,
   "metadata": {
    "id": "zaaL9v1TR3iM"
   },
   "outputs": [],
   "source": [
    "# Baseline Model Performance"
   ]
  },
  {
   "cell_type": "code",
   "execution_count": 55,
   "metadata": {
    "colab": {
     "base_uri": "https://localhost:8080/",
     "height": 472
    },
    "id": "PRJKJ-PaR3Du",
    "outputId": "128890a0-0d83-438c-d027-7fb94bce6d94"
   },
   "outputs": [
    {
     "data": {
      "image/png": "[encoded data removed]",
      "text/plain": [
       "<Figure size 640x480 with 1 Axes>"
      ]
     },
     "metadata": {},
     "output_type": "display_data"
    }
   ],
   "source": [
    "plt.plot(base.history['loss'], label = 'Train')\n",
    "plt.plot(base.history['val_loss'], label = 'Test')\n",
    "plt.title('Loss Function for base_model History')\n",
    "plt.xlabel('Epoch')\n",
    "plt.ylabel('Loss Function Value')\n",
    "plt.ylim(0.6, 0.8)\n",
    "plt.legend();"
   ]
  },
  {
   "cell_type": "code",
   "execution_count": 56,
   "metadata": {
    "colab": {
     "base_uri": "https://localhost:8080/",
     "height": 472
    },
    "id": "EHPznWdwAEj0",
    "outputId": "cac2150a-02a6-4e07-c59b-4fc9beea38ab"
   },
   "outputs": [
    {
     "data": {
      "image/png": "[encoded data removed]",
      "text/plain": [
       "<Figure size 640x480 with 1 Axes>"
      ]
     },
     "metadata": {},
     "output_type": "display_data"
    }
   ],
   "source": [
    "plt.plot(base.history['acc'], label = 'Train')\n",
    "plt.plot(base.history['val_acc'], label = 'Test')\n",
    "plt.title('Accuracy Metric for base_model History')\n",
    "plt.xlabel('Epoch')\n",
    "plt.ylabel('Accuracy Metric')\n",
    "plt.ylim(0.5, 0.75)\n",
    "plt.legend();"
   ]
  },
  {
   "cell_type": "code",
   "execution_count": null,
   "metadata": {
    "id": "SquPZkPfrF3U"
   },
   "outputs": [],
   "source": [
    "# Conclusion\n",
    "\n",
    "Our base model has not met our standards of succuess. Our validation accuracy (57.61%) is right below our null baseline of (58%).\n",
    "We can see from the loss metric history of our model that quickly after the second epoch our model is stagnent and does little learning or development after.\n",
    "We will attempt to migitagte this issue with all possible resources for model adaptations."
   ]
  },
  {
   "cell_type": "code",
   "execution_count": null,
   "metadata": {
    "id": "QfifvktPR14H"
   },
   "outputs": [],
   "source": [
    "# CNN model with Regression\n",
    "\n",
    "Although our base model showed signs of over-fitness, it's poor accuracy is the most concerning. For this reason we will not add any regularization to\n",
    "our next model because this will penalize our weights and will impeed on improving accuracy. We will add three more Conv2D and two more Dense hidden layers to allow the\n",
    "model to find more complex relationships in the data."
   ]
  },
  {
   "cell_type": "code",
   "execution_count": 47,
   "metadata": {
    "id": "pMzr2Qzqef8D"
   },
   "outputs": [],
   "source": [
    "\n",
    "# instantiates sequential baseline model\n",
    "model_1 = Sequential()\n",
    "\n",
    "\n",
    "# make a convolutional layer with 16 filters and MaxPool the results\n",
    "model_1.add(Conv2D(8, kernel_size = (3, 3),\n",
    "                   activation='relu',\n",
    "                   input_shape=(128, 128, 3)))\n",
    "model_1.add(MaxPooling2D(2))\n",
    "\n",
    "# adds another conv2D layer\n",
    "model_1.add(Conv2D(16, kernel_size = (3, 3),\n",
    "                   activation='relu'))\n",
    "model_1.add(MaxPooling2D(2))\n",
    "\n",
    "# adds another conv2D layer\n",
    "model_1.add(Conv2D(64, kernel_size = (3, 3),\n",
    "                   activation='relu'))\n",
    "model_1.add(MaxPooling2D(2))\n",
    "\n",
    "\n",
    "# adds another conv2D layer\n",
    "model_1.add(Conv2D(128, kernel_size = (3, 3),\n",
    "                   activation='relu'))\n",
    "model_1.add(MaxPooling2D(2))\n",
    "\n",
    "# adds another conv2D layer\n",
    "model_1.add(Conv2D(256, kernel_size = (3, 3),\n",
    "                   activation='relu'))\n",
    "model_1.add(MaxPooling2D(2))\n",
    "\n",
    "# Finally, flatten the output and make a predictions.\n",
    "model_1.add(Flatten())\n",
    "\n",
    "\n",
    "model_1.add(Dense(128, activation='relu'))\n",
    "model_1.add(Dense(64, activation='relu'))\n",
    "model_1.add(Dense(16, activation='relu'))\n",
    "model_1.add(Dense(8, activation='relu'))\n",
    "\n",
    "model_1.add(Dense(1, activation='sigmoid'))"
   ]
  },
  {
   "cell_type": "code",
   "execution_count": 48,
   "metadata": {
    "id": "H5-C-SCWBHf5"
   },
   "outputs": [],
   "source": [
    "model_1.compile(\n",
    "    loss='binary_crossentropy',\n",
    "    optimizer='adam',\n",
    "    metrics=['acc'] # try different metrics\n",
    ")"
   ]
  },
  {
   "cell_type": "code",
   "execution_count": 50,
   "metadata": {
    "colab": {
     "base_uri": "https://localhost:8080/"
    },
    "id": "rCVvfUsfBHmF",
    "outputId": "a8c67b97-8eb4-431c-9903-5037ae0c27a9"
   },
   "outputs": [
    {
     "name": "stdout",
     "output_type": "stream",
     "text": [
      "Epoch 1/10\n",
      "61/61 [==============================] - 26s 388ms/step - loss: 1.9603 - acc: 0.5535 - val_loss: 0.6806 - val_acc: 0.5792\n",
      "Epoch 2/10\n",
      "61/61 [==============================] - 26s 408ms/step - loss: 0.6798 - acc: 0.5861 - val_loss: 0.6821 - val_acc: 0.5792\n",
      "Epoch 3/10\n",
      "61/61 [==============================] - 24s 371ms/step - loss: 0.6843 - acc: 0.5861 - val_loss: 0.6801 - val_acc: 0.5792\n",
      "Epoch 4/10\n",
      "61/61 [==============================] - 23s 352ms/step - loss: 0.6812 - acc: 0.5861 - val_loss: 0.6805 - val_acc: 0.5792\n",
      "Epoch 5/10\n",
      "61/61 [==============================] - 24s 372ms/step - loss: 0.6794 - acc: 0.5861 - val_loss: 0.6823 - val_acc: 0.5792\n",
      "Epoch 6/10\n",
      "61/61 [==============================] - 22s 350ms/step - loss: 0.6798 - acc: 0.5861 - val_loss: 0.6912 - val_acc: 0.5792\n",
      "Epoch 7/10\n",
      "61/61 [==============================] - 24s 371ms/step - loss: 0.6822 - acc: 0.5861 - val_loss: 0.6790 - val_acc: 0.5792\n",
      "Epoch 8/10\n",
      "61/61 [==============================] - 24s 370ms/step - loss: 0.6792 - acc: 0.5825 - val_loss: 0.6777 - val_acc: 0.5792\n",
      "Epoch 9/10\n",
      "61/61 [==============================] - 23s 355ms/step - loss: 0.6780 - acc: 0.5861 - val_loss: 0.6772 - val_acc: 0.5792\n",
      "Epoch 10/10\n",
      "61/61 [==============================] - 23s 359ms/step - loss: 0.6761 - acc: 0.5882 - val_loss: 0.6787 - val_acc: 0.5932\n"
     ]
    }
   ],
   "source": [
    "model_res_1 = model_1.fit(\n",
    "    img_train,\n",
    "    validation_data=(img_test),\n",
    "    batch_size=64,\n",
    "    epochs=10\n",
    ")"
   ]
  },
  {
   "cell_type": "code",
   "execution_count": 52,
   "metadata": {
    "colab": {
     "base_uri": "https://localhost:8080/",
     "height": 472
    },
    "id": "vZxXp0SiBHsK",
    "outputId": "893929a6-90ec-418f-9e01-84dc81e35471"
   },
   "outputs": [
    {
     "data": {
      "image/png": "[encoded data removed]",
      "text/plain": [
       "<Figure size 640x480 with 1 Axes>"
      ]
     },
     "metadata": {},
     "output_type": "display_data"
    }
   ],
   "source": [
    "plt.plot(model_res_1.history['loss'], label = 'Train')\n",
    "plt.plot(model_res_1.history['val_loss'], label = 'Test')\n",
    "plt.title('Loss Function for model_1 History')\n",
    "plt.xlabel('Epoch')\n",
    "plt.ylabel('Loss Function Value')\n",
    "plt.ylim(0.5, 0.75)\n",
    "plt.legend();"
   ]
  },
  {
   "cell_type": "code",
   "execution_count": 54,
   "metadata": {
    "colab": {
     "base_uri": "https://localhost:8080/",
     "height": 472
    },
    "id": "Lpo8ysriA0hW",
    "outputId": "44112c25-2d45-44db-f5a9-5a1061fcdbef"
   },
   "outputs": [
    {
     "data": {
      "image/png": "[encoded data removed]",
      "text/plain": [
       "<Figure size 640x480 with 1 Axes>"
      ]
     },
     "metadata": {},
     "output_type": "display_data"
    }
   ],
   "source": [
    "plt.plot(model_res_1.history['acc'], label = 'Train')\n",
    "plt.plot(model_res_1.history['val_acc'], label = 'Test')\n",
    "plt.title('Accuracy for model_1 History')\n",
    "plt.xlabel('Epoch')\n",
    "plt.ylabel('Accuracy Metric')\n",
    "plt.ylim(0.5, 0.75)\n",
    "plt.legend();"
   ]
  },
  {
   "cell_type": "code",
   "execution_count": 4,
   "metadata": {
    "id": "PzsKtRGGPzWa"
   },
   "outputs": [],
   "source": [
    "# VGG16 Model"
   ]
  },
  {
   "cell_type": "code",
   "execution_count": 5,
   "metadata": {
    "id": "C0nVc4tNPzs3"
   },
   "outputs": [],
   "source": [
    "train_path = 'drive/MyDrive/spectrograms/train'\n",
    "test_path = 'drive/MyDrive/spectrograms/test'"
   ]
  },
  {
   "cell_type": "code",
   "execution_count": 7,
   "metadata": {
    "colab": {
     "base_uri": "https://localhost:8080/"
    },
    "id": "ZA7yla4SPz2E",
    "outputId": "83639391-1a93-44bf-80f1-e0976416895b"
   },
   "outputs": [
    {
     "name": "stdout",
     "output_type": "stream",
     "text": [
      "Downloading data from https://storage.googleapis.com/tensorflow/keras-applications/vgg16/vgg16_weights_tf_dim_ordering_tf_kernels_notop.h5\n",
      "58889256/58889256 [==============================] - 0s 0us/step\n"
     ]
    }
   ],
   "source": [
    "base_model = VGG16(weights='imagenet', include_top=False, input_shape=(224, 224, 3))"
   ]
  },
  {
   "cell_type": "code",
   "execution_count": 8,
   "metadata": {
    "id": "6sblcdsHZURu"
   },
   "outputs": [],
   "source": [
    "for layer in base_model.layers:\n",
    "    layer.trainable = False"
   ]
  },
  {
   "cell_type": "code",
   "execution_count": 9,
   "metadata": {
    "id": "yiCh7x2fZUYh"
   },
   "outputs": [],
   "source": [
    "vgg16_model = Sequential([\n",
    "    base_model,\n",
    "    layers.Flatten(),\n",
    "    layers.Dense(128, activation='relu'),\n",
    "    Dropout(0.1),\n",
    "    layers.Dense(64, activation='relu'),\n",
    "    Dropout(0.4),\n",
    "    Dense(1, activation='sigmoid')  # Adjust the number of output classes as needed\n",
    "])\n"
   ]
  },
  {
   "cell_type": "code",
   "execution_count": 10,
   "metadata": {
    "id": "OCFTopkXZUgo"
   },
   "outputs": [],
   "source": [
    "vgg16_model.compile(optimizer='adam', loss='binary_crossentropy', metrics=['accuracy'])"
   ]
  },
  {
   "cell_type": "code",
   "execution_count": 11,
   "metadata": {
    "colab": {
     "base_uri": "https://localhost:8080/"
    },
    "id": "OzQnKPRkel6g",
    "outputId": "48304d49-7abd-4253-ff26-e44846bd3a94"
   },
   "outputs": [
    {
     "name": "stdout",
     "output_type": "stream",
     "text": [
      "Found 2577 images belonging to 2 classes.\n"
     ]
    }
   ],
   "source": [
    "train_datagen = ImageDataGenerator(\n",
    "    preprocessing_function = preprocess_input,\n",
    "    rotation_range=40,\n",
    "    width_shift_range=0.2,\n",
    "    height_shift_range=0.2)\n",
    "\n",
    "train_generator = train_datagen.flow_from_directory(\n",
    "    train_path,\n",
    "    target_size=(224, 224),\n",
    "    batch_size=32,\n",
    "    class_mode='binary')\n"
   ]
  },
  {
   "cell_type": "code",
   "execution_count": 12,
   "metadata": {
    "colab": {
     "base_uri": "https://localhost:8080/"
    },
    "id": "5-WzltBAelyr",
    "outputId": "747977b4-76f1-477e-e758-b77a688da0a1"
   },
   "outputs": [
    {
     "name": "stdout",
     "output_type": "stream",
     "text": [
      "Found 859 images belonging to 2 classes.\n"
     ]
    }
   ],
   "source": [
    "test_datagen = ImageDataGenerator(\n",
    "    preprocessing_function = preprocess_input,\n",
    "    rotation_range=40,\n",
    "    width_shift_range=0.2,\n",
    "    height_shift_range=0.2)\n",
    "\n",
    "test_generator = test_datagen.flow_from_directory(\n",
    "    test_path,\n",
    "    target_size=(224, 224),\n",
    "    batch_size=32,\n",
    "    class_mode='binary')"
   ]
  },
  {
   "cell_type": "code",
   "execution_count": 13,
   "metadata": {
    "colab": {
     "base_uri": "https://localhost:8080/"
    },
    "id": "gpxJouYEelqH",
    "outputId": "71218ccf-c9b2-4094-bfda-f785a94440be"
   },
   "outputs": [
    {
     "name": "stdout",
     "output_type": "stream",
     "text": [
      "Epoch 1/10\n",
      "81/81 [==============================] - 1401s 17s/step - loss: 1.4260 - accuracy: 0.5603 - val_loss: 0.6865 - val_accuracy: 0.5856\n",
      "Epoch 2/10\n",
      "81/81 [==============================] - 1393s 17s/step - loss: 0.6838 - accuracy: 0.5840 - val_loss: 0.6826 - val_accuracy: 0.5832\n",
      "Epoch 3/10\n",
      "81/81 [==============================] - 1392s 17s/step - loss: 0.6875 - accuracy: 0.5836 - val_loss: 0.6792 - val_accuracy: 0.5844\n",
      "Epoch 4/10\n",
      "81/81 [==============================] - 1393s 17s/step - loss: 0.6797 - accuracy: 0.5840 - val_loss: 0.6791 - val_accuracy: 0.5844\n",
      "Epoch 5/10\n",
      "81/81 [==============================] - 1396s 17s/step - loss: 0.6801 - accuracy: 0.5840 - val_loss: 0.6789 - val_accuracy: 0.5844\n",
      "Epoch 6/10\n",
      "81/81 [==============================] - 1395s 17s/step - loss: 0.6789 - accuracy: 0.5844 - val_loss: 0.6788 - val_accuracy: 0.5844\n",
      "Epoch 7/10\n",
      "81/81 [==============================] - 1430s 18s/step - loss: 0.6789 - accuracy: 0.5844 - val_loss: 0.6787 - val_accuracy: 0.5844\n",
      "Epoch 8/10\n",
      "81/81 [==============================] - 1404s 17s/step - loss: 0.6790 - accuracy: 0.5844 - val_loss: 0.6788 - val_accuracy: 0.5844\n",
      "Epoch 9/10\n",
      "81/81 [==============================] - 1446s 18s/step - loss: 0.6798 - accuracy: 0.5844 - val_loss: 0.6788 - val_accuracy: 0.5844\n",
      "Epoch 10/10\n",
      "81/81 [==============================] - 1432s 18s/step - loss: 0.6799 - accuracy: 0.5840 - val_loss: 0.6788 - val_accuracy: 0.5844\n"
     ]
    },
    {
     "data": {
      "text/plain": [
       "<keras.src.callbacks.History at 0x7a66ce49f730>"
      ]
     },
     "execution_count": 13,
     "metadata": {},
     "output_type": "execute_result"
    }
   ],
   "source": [
    "vgg16_model.fit(\n",
    "    train_generator, validation_data = test_generator,\n",
    "    epochs=10, verbose=1)\n"
   ]
  },
  {
   "cell_type": "code",
   "execution_count": null,
   "metadata": {
    "id": "ailrVsEleli9"
   },
   "outputs": [],
   "source": [
    "# https://builtin.com/machine-learning/vgg16\n",
    "checkpoint = ModelCheckpoint(\"vgg16_1.h5\", monitor='val_acc', verbose=1, save_best_only=True, save_weights_only=False, mode='auto', period=1)"
   ]
  },
  {
   "cell_type": "code",
   "execution_count": null,
   "metadata": {
    "id": "8cnQZhnCeQL8"
   },
   "outputs": [],
   "source": [
    "# https://keras.io/api/applications/#usage-examples-for-image-classification-models\n",
    "\n",
    "\n",
    "# create the base pre-trained model\n",
    "base_model = InceptionV3(weights='imagenet', include_top=False)\n",
    "\n",
    "# add a global spatial average pooling layer\n",
    "x = base_model.output\n",
    "x = GlobalAveragePooling2D()(x)\n",
    "# let's add a fully-connected layer\n",
    "x = Dense(1024, activation='relu')(x)\n",
    "# and a logistic layer -- let's say we have 200 classes\n",
    "predictions = Dense(200, activation='softmax')(x)\n",
    "\n",
    "# this is the model we will train\n",
    "model = Model(inputs=base_model.input, outputs=predictions)\n",
    "\n",
    "# first: train only the top layers (which were randomly initialized)\n",
    "# i.e. freeze all convolutional InceptionV3 layers\n",
    "for layer in base_model.layers:\n",
    "    layer.trainable = False\n",
    "\n",
    "# compile the model (should be done *after* setting layers to non-trainable)\n",
    "model.compile(optimizer='rmsprop', loss='categorical_crossentropy')\n",
    "\n",
    "# train the model on the new data for a few epochs\n",
    "model.fit(...)"
   ]
  }
 ],
 "metadata": {
  "colab": {
   "provenance": []
  },
  "kernelspec": {
   "display_name": "Python 3 (ipykernel)",
   "language": "python",
   "name": "python3"
  },
  "language_info": {
   "codemirror_mode": {
    "name": "ipython",
    "version": 3
   },
   "file_extension": ".py",
   "mimetype": "text/x-python",
   "name": "python",
   "nbconvert_exporter": "python",
   "pygments_lexer": "ipython3",
   "version": "3.11.4"
  }
 },
 "nbformat": 4,
 "nbformat_minor": 4
}
