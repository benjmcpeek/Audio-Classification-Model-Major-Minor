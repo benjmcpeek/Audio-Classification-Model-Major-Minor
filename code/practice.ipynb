{
 "cells": [
  {
   "cell_type": "markdown",
   "id": "195c455f-bb90-488e-8f3d-2c77b08c6aee",
   "metadata": {},
   "source": [
    "# Class Practice "
   ]
  },
  {
   "cell_type": "code",
   "execution_count": 1,
   "id": "ef014b29-bdeb-4685-9fc2-d9509d32c128",
   "metadata": {},
   "outputs": [],
   "source": [
    "import librosa \n",
    "import librosa.display\n",
    "import pandas as pd\n",
    "import numpy as np\n",
    "import matplotlib.pylab as plt \n",
    "import IPython.display as ipd\n",
    "import random\n",
    "\n",
    "# below found from https://towardsdatascience.com/audio-deep-learning-made-simple-sound-classification-step-by-step-cebc936bbe5\n",
    "import torch\n",
    "import torchaudio\n",
    "from torchaudio import transforms\n",
    "from torch.utils.data import DataLoader, Dataset, random_split"
   ]
  },
  {
   "cell_type": "code",
   "execution_count": 2,
   "id": "717d791f-fb98-43cb-b738-ab09c4b88a62",
   "metadata": {},
   "outputs": [],
   "source": [
    "audio_files = pd.read_csv('audio_files.csv')"
   ]
  },
  {
   "cell_type": "code",
   "execution_count": 124,
   "id": "51328a75-e55b-4d2c-bab1-2770ccba187e",
   "metadata": {},
   "outputs": [],
   "source": [
    "class AudioTransformer:\n",
    "\n",
    "    max_len = 50000\n",
    "\n",
    "    def __init__(self, aud):\n",
    "        self.aud = aud\n",
    "        self.sig = aud[0]\n",
    "        self.sr = aud[1]\n",
    "        self.S_dB = None\n",
    "        self.augmented_melspec = None\n",
    "\n",
    "    def open_audio(self):\n",
    "        self.sig, self.sr = librosa.load(self.aud, sr=22050, mono=True)\n",
    "        #return (self.sig, self.sr)\n",
    "\n",
    "    def same_length(self):\n",
    "        sig_len = len(self.sig)\n",
    "        \n",
    "        if (sig_len > self.max_len):\n",
    "            self.sig = self.sig[:self.max_len]\n",
    "            \n",
    "        elif (sig_len < self.max_len):\n",
    "            diff = self.max_len - sig_len\n",
    "            for i in range(0, diff):\n",
    "                self.sig = np.append(self.sig, 0)\n",
    "        #return (self.sig, self.sr)\n",
    "\n",
    "    def time_shift(self):\n",
    "        shift = int(random.random() * len(self.sig))\n",
    "        self.sig = np.roll(self.sig, shift)\n",
    "        #return (self.sig, self.sr)\n",
    "\n",
    "    def to_spectrogram(self):\n",
    "        S = librosa.feature.melspectrogram(y=self.sig, sr=self.sr, n_mels=128, fmax=8000)\n",
    "        self.S_dB = librosa.power_to_db(S, ref=np.max)\n",
    "        #return (self.S_dB)\n",
    "\n",
    "    def aug_sepctrogram(self, max_mask_pct=0.1):\n",
    "        freq, time = self.S_dB.shape\n",
    "        self.augmented_melspec = self.S_dB.copy()\n",
    "        freq_mask_param = max_mask_pct * freq\n",
    "        time_mask_param = max_mask_pct * time\n",
    "\n",
    "        # Code copied and edited from \n",
    "        # https://www.kaggle.com/code/davids1992/specaugment-quick-implementation\n",
    "        \n",
    "        # Frequency masking\n",
    "        num_freqs_to_mask = int(freq_mask_param * random.uniform(0.5, 1.5))\n",
    "        f0 = int(np.random.uniform(low = 0.0, high = (freq - num_freqs_to_mask)))\n",
    "        self.augmented_melspec[:, f0:(f0 + num_freqs_to_mask)] = 0\n",
    "        # Time masking\n",
    "        num_frames_to_mask = int(time_mask_param * random.uniform(0.5, 1.5))\n",
    "        t0 = int(np.random.uniform(low = 0.0, high = (time - num_frames_to_mask))) \n",
    "        self.augmented_melspec[t0:(t0 + num_frames_to_mask), :] = 0\n",
    "        \n",
    "\n",
    "\n",
    "    "
   ]
  },
  {
   "cell_type": "code",
   "execution_count": null,
   "id": "93d51388-c022-4824-9595-496c255e0491",
   "metadata": {},
   "outputs": [],
   "source": []
  },
  {
   "cell_type": "code",
   "execution_count": 125,
   "id": "2b414bbd-632a-4d35-9fdc-342fd6eb8c96",
   "metadata": {
    "scrolled": true
   },
   "outputs": [],
   "source": [
    "for i in audio_files['chord_qual']:\n",
    "    if i[:5] == 'Major':\n",
    "        aud_maj = AudioTransformer(f'./audio_files/Major/{i}')\n",
    "        aud_maj.open_audio()\n",
    "        aud_maj.same_length()\n",
    "        aud_maj.time_shift()\n",
    "        aud_maj.to_spectrogram()\n",
    "        aud_maj.aug_sepctrogram()\n",
    "        img = librosa.display.specshow(aud_maj.augmented_melspec, x_axis=None, \n",
    "                                       y_axis=None, sr=aud.sr, fmax=8000); \n",
    "        plt.savefig(f'./data/major/{i[:-4]}png')\n",
    "        plt.close()\n",
    "    \n",
    "    if i[:5] == 'Minor':\n",
    "        aud_min = AudioTransformer(f'./audio_files/Minor/{i}')\n",
    "        aud_min.open_audio()\n",
    "        aud_min.same_length()\n",
    "        aud_min.time_shift()\n",
    "        aud_min.to_spectrogram()\n",
    "        aud_min.aug_sepctrogram()\n",
    "        img = librosa.display.specshow(aud_min.augmented_melspec, x_axis=None, \n",
    "                                       y_axis=None, sr=aud.sr, fmax=8000); \n",
    "        plt.savefig(f'./data/minor/{i[:-4]}.png')\n",
    "        plt.close()"
   ]
  }
 ],
 "metadata": {
  "kernelspec": {
   "display_name": "Python 3 (ipykernel)",
   "language": "python",
   "name": "python3"
  },
  "language_info": {
   "codemirror_mode": {
    "name": "ipython",
    "version": 3
   },
   "file_extension": ".py",
   "mimetype": "text/x-python",
   "name": "python",
   "nbconvert_exporter": "python",
   "pygments_lexer": "ipython3",
   "version": "3.11.5"
  }
 },
 "nbformat": 4,
 "nbformat_minor": 5
}
