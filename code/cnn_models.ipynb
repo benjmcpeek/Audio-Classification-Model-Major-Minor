{
 "cells": [
  {
   "cell_type": "code",
   "execution_count": 87,
   "metadata": {
    "id": "TNIvii-pmAQb"
   },
   "outputs": [],
   "source": [
    "from numpy.random import seed\n",
    "seed(1)\n",
    "from tensorflow.keras.utils import set_random_seed\n",
    "set_random_seed(2)"
   ]
  },
  {
   "cell_type": "code",
   "execution_count": 6,
   "metadata": {
    "id": "oTcgg-djcOMa"
   },
   "outputs": [],
   "source": [
    "import pandas as pd\n",
    "import numpy as np\n",
    "import matplotlib.pyplot as plt\n",
    "import seaborn as sns\n",
    "import os\n",
    "\n",
    "from tensorflow.keras.utils import image_dataset_from_directory, load_img, img_to_array, normalize\n",
    "from tensorflow.keras.models import Sequential\n",
    "from tensorflow.keras.layers import Dense, Dropout, Flatten, Conv2D, MaxPooling2D, Rescaling, Input, Lambda\n",
    "from tensorflow.keras.regularizers import l1, l2, l1_l2\n",
    "from tensorflow.keras.callbacks import EarlyStopping\n"
   ]
  },
  {
   "cell_type": "code",
   "execution_count": 89,
   "metadata": {
    "colab": {
     "base_uri": "https://localhost:8080/"
    },
    "id": "te-rHiZdcdQn",
    "outputId": "1d723fdf-51ca-4bac-8ec7-138a2cf39994"
   },
   "outputs": [
    {
     "data": {
      "text/plain": [
       "['major', 'minor']"
      ]
     },
     "execution_count": 89,
     "metadata": {},
     "output_type": "execute_result"
    }
   ],
   "source": [
    "os.listdir('drive/MyDrive/data')"
   ]
  },
  {
   "cell_type": "code",
   "execution_count": 13,
   "metadata": {
    "colab": {
     "base_uri": "https://localhost:8080/"
    },
    "id": "uSiy3YyVbBM8",
    "outputId": "a9f9464e-3207-46d2-d00f-107fd473fd5d"
   },
   "outputs": [
    {
     "name": "stdout",
     "output_type": "stream",
     "text": [
      "Found 3444 files belonging to 2 classes.\n",
      "Using 2583 files for training.\n",
      "Found 3444 files belonging to 2 classes.\n",
      "Using 861 files for validation.\n"
     ]
    }
   ],
   "source": [
    "img_train = image_dataset_from_directory('drive/MyDrive/data',\n",
    "                                         validation_split = 0.25,\n",
    "                                         image_size = (128, 128), # resized to exactly one fifth in size\n",
    "                                         subset = 'training',\n",
    "                                         color_mode='rgb',\n",
    "                                         seed = 42)\n",
    "\n",
    "# create a test set of the representing 25% of the images\n",
    "img_test = image_dataset_from_directory('drive/MyDrive/data',\n",
    "                                         validation_split = 0.25,\n",
    "                                         image_size = (128, 128),  # resized to exactly one fifth in size\n",
    "                                         subset = 'validation',\n",
    "                                         color_mode='rgb',\n",
    "                                         seed = 42)"
   ]
  },
  {
   "cell_type": "code",
   "execution_count": null,
   "metadata": {
    "id": "dqPRlvUNljeE"
   },
   "outputs": [],
   "source": [
    "# img_train = normalize(img_train, axis=1)\n",
    "# img_test = normalize(img_test, axis=1)"
   ]
  },
  {
   "cell_type": "code",
   "execution_count": null,
   "metadata": {
    "id": "O8zFzreZRaqm"
   },
   "outputs": [],
   "source": [
    "# CNN Baseline Model\n"
   ]
  },
  {
   "cell_type": "code",
   "execution_count": null,
   "metadata": {
    "id": "sET2u6mwefc0"
   },
   "outputs": [],
   "source": [
    "\n",
    "es = EarlyStopping(patience = 5)\n",
    "\n",
    "base_model = Sequential()\n",
    "\n",
    "base_model.add(Conv2D(filters = 64, kernel_size = (3, 3), activation='relu', input_shape=(128, 128, 3)))\n",
    "base_model.add(MaxPooling2D(pool_size = (2, 2)))\n",
    "\n",
    "base_model.add(Conv2D(filters = 128, kernel_size = (3, 3), activation='relu'))\n",
    "base_model.add(MaxPooling2D(pool_size = (2, 2)))\n",
    "\n",
    "base_model.add(Flatten())\n",
    "\n",
    "base_model.add(Dense(1, activation='sigmoid'))"
   ]
  },
  {
   "cell_type": "code",
   "execution_count": null,
   "metadata": {
    "id": "0y6jJLyqefkx"
   },
   "outputs": [],
   "source": [
    "base_model.compile(loss='binary_crossentropy', optimizer='adam', metrics=['acc'])"
   ]
  },
  {
   "cell_type": "code",
   "execution_count": null,
   "metadata": {
    "colab": {
     "base_uri": "https://localhost:8080/"
    },
    "id": "UBz9P5B7ioLj",
    "outputId": "182828a2-684b-41e2-95f8-9101babc5a60"
   },
   "outputs": [
    {
     "name": "stdout",
     "output_type": "stream",
     "text": [
      "Epoch 1/20\n",
      "81/81 [==============================] - 188s 2s/step - loss: 15.4242 - acc: 0.5571 - val_loss: 0.6911 - val_acc: 0.5889\n",
      "Epoch 2/20\n",
      "81/81 [==============================] - 187s 2s/step - loss: 0.6859 - acc: 0.5815 - val_loss: 0.6865 - val_acc: 0.5796\n",
      "Epoch 3/20\n",
      "81/81 [==============================] - 215s 3s/step - loss: 0.6840 - acc: 0.5807 - val_loss: 0.6821 - val_acc: 0.5842\n",
      "Epoch 4/20\n",
      "81/81 [==============================] - 209s 3s/step - loss: 0.6809 - acc: 0.5819 - val_loss: 0.6855 - val_acc: 0.5621\n",
      "Epoch 5/20\n",
      "81/81 [==============================] - 208s 3s/step - loss: 0.6734 - acc: 0.5966 - val_loss: 0.6801 - val_acc: 0.5749\n",
      "Epoch 6/20\n",
      "81/81 [==============================] - 186s 2s/step - loss: 0.6608 - acc: 0.6070 - val_loss: 0.6802 - val_acc: 0.5726\n",
      "Epoch 7/20\n",
      "81/81 [==============================] - 186s 2s/step - loss: 0.6485 - acc: 0.6163 - val_loss: 0.6825 - val_acc: 0.5772\n",
      "Epoch 8/20\n",
      "81/81 [==============================] - 209s 3s/step - loss: 0.6347 - acc: 0.6349 - val_loss: 0.6931 - val_acc: 0.5656\n",
      "Epoch 9/20\n",
      "81/81 [==============================] - 208s 3s/step - loss: 0.6070 - acc: 0.6489 - val_loss: 0.7057 - val_acc: 0.5575\n",
      "Epoch 10/20\n",
      "81/81 [==============================] - 187s 2s/step - loss: 0.5792 - acc: 0.6709 - val_loss: 0.7357 - val_acc: 0.5761\n"
     ]
    }
   ],
   "source": [
    "base = base_model.fit(img_train, validation_data=img_test, batch_size=64, epochs=20, callbacks=[es])"
   ]
  },
  {
   "cell_type": "code",
   "execution_count": null,
   "metadata": {
    "id": "zaaL9v1TR3iM"
   },
   "outputs": [],
   "source": [
    "# Baseline Model Performance"
   ]
  },
  {
   "cell_type": "code",
   "execution_count": null,
   "metadata": {
    "colab": {
     "base_uri": "https://localhost:8080/",
     "height": 472
    },
    "id": "PRJKJ-PaR3Du",
    "outputId": "2441a248-bf3d-491c-ab27-22e5293ef1b2"
   },
   "outputs": [
    {
     "data": {
      "image/png": "[encoded data removed]",
      "text/plain": [
       "<Figure size 640x480 with 1 Axes>"
      ]
     },
     "metadata": {},
     "output_type": "display_data"
    }
   ],
   "source": [
    "plt.plot(base.history['loss'], label = 'Train')\n",
    "plt.plot(base.history['val_loss'], label = 'Test')\n",
    "plt.title('Loss Function Over Epochs')\n",
    "plt.xlabel('Epoch')\n",
    "plt.ylabel('Loss Function Value')\n",
    "plt.legend();"
   ]
  },
  {
   "cell_type": "code",
   "execution_count": null,
   "metadata": {
    "id": "QfifvktPR14H"
   },
   "outputs": [],
   "source": [
    "# CNN model with Regression"
   ]
  },
  {
   "cell_type": "code",
   "execution_count": 91,
   "metadata": {
    "id": "pMzr2Qzqef8D"
   },
   "outputs": [],
   "source": [
    "# instantiates an early stop\n",
    "es = EarlyStopping(patience = 5)\n",
    "\n",
    "# instantiates sequential baseline model\n",
    "model_1 = Sequential()\n",
    "\n",
    "\n",
    "# make a convolutional layer with 16 filters and MaxPool the results\n",
    "model_1.add(Conv2D(16, kernel_size = (3, 3),\n",
    "                   activation='relu',\n",
    "                   input_shape=(128, 128, 3), kernel_regularizer = l2(0.01)))\n",
    "model_1.add(MaxPooling2D(2))\n",
    "\n",
    "# adds a dropout layer\n",
    "model_1.add(Dropout(0.1))\n",
    "\n",
    "# adds another conv2D layer\n",
    "model_1.add(Conv2D(64, kernel_size = (3, 3),\n",
    "                   activation='relu', kernel_regularizer = l2(0.01)))\n",
    "model_1.add(MaxPooling2D(2))\n",
    "\n",
    "# adds a dropout layer\n",
    "model_1.add(Dropout(0.25))\n",
    "\n",
    "# adds another conv2D layer\n",
    "model_1.add(Conv2D(128, kernel_size = (3, 3),\n",
    "                   activation='relu'))\n",
    "model_1.add(MaxPooling2D(2))\n",
    "\n",
    "# Finally, flatten the output and make a predictions.\n",
    "model_1.add(Flatten())\n",
    "model_1.add(Dense(1, activation='sigmoid'))"
   ]
  },
  {
   "cell_type": "code",
   "execution_count": 92,
   "metadata": {
    "id": "H5-C-SCWBHf5"
   },
   "outputs": [],
   "source": [
    "model_1.compile(\n",
    "    loss='binary_crossentropy',\n",
    "    optimizer='adam',\n",
    "    metrics=['acc']\n",
    ")"
   ]
  },
  {
   "cell_type": "code",
   "execution_count": 93,
   "metadata": {
    "colab": {
     "base_uri": "https://localhost:8080/"
    },
    "id": "rCVvfUsfBHmF",
    "outputId": "cef4f793-4448-40c6-c4ea-13d251a1bfd2"
   },
   "outputs": [
    {
     "name": "stdout",
     "output_type": "stream",
     "text": [
      "Epoch 1/20\n",
      "81/81 [==============================] - 89s 1s/step - loss: 7.7630 - acc: 0.5230 - val_loss: 0.9312 - val_acc: 0.5923\n",
      "Epoch 2/20\n",
      "81/81 [==============================] - 86s 1s/step - loss: 0.9219 - acc: 0.5552 - val_loss: 0.9083 - val_acc: 0.5854\n",
      "Epoch 3/20\n",
      "81/81 [==============================] - 84s 1s/step - loss: 0.9005 - acc: 0.5676 - val_loss: 0.8922 - val_acc: 0.5865\n",
      "Epoch 4/20\n",
      "81/81 [==============================] - 85s 1s/step - loss: 0.8867 - acc: 0.5672 - val_loss: 0.8826 - val_acc: 0.5900\n",
      "Epoch 5/20\n",
      "81/81 [==============================] - 85s 1s/step - loss: 0.8747 - acc: 0.5846 - val_loss: 0.8676 - val_acc: 0.5947\n",
      "Epoch 6/20\n",
      "81/81 [==============================] - 83s 1s/step - loss: 0.8630 - acc: 0.5939 - val_loss: 0.8674 - val_acc: 0.5679\n",
      "Epoch 7/20\n",
      "81/81 [==============================] - 84s 1s/step - loss: 0.8560 - acc: 0.5834 - val_loss: 0.8599 - val_acc: 0.5900\n",
      "Epoch 8/20\n",
      "81/81 [==============================] - 85s 1s/step - loss: 0.8459 - acc: 0.5850 - val_loss: 0.8518 - val_acc: 0.5923\n",
      "Epoch 9/20\n",
      "81/81 [==============================] - 83s 1s/step - loss: 0.8323 - acc: 0.5908 - val_loss: 0.8447 - val_acc: 0.5993\n",
      "Epoch 10/20\n",
      "81/81 [==============================] - 96s 1s/step - loss: 0.8225 - acc: 0.5985 - val_loss: 0.8370 - val_acc: 0.5970\n",
      "Epoch 11/20\n",
      "81/81 [==============================] - 95s 1s/step - loss: 0.8175 - acc: 0.6043 - val_loss: 0.8419 - val_acc: 0.5912\n",
      "Epoch 12/20\n",
      "81/81 [==============================] - 93s 1s/step - loss: 0.8064 - acc: 0.6086 - val_loss: 0.8278 - val_acc: 0.5993\n",
      "Epoch 13/20\n",
      "81/81 [==============================] - 83s 1s/step - loss: 0.7940 - acc: 0.6175 - val_loss: 0.8315 - val_acc: 0.5970\n",
      "Epoch 14/20\n",
      "81/81 [==============================] - 84s 1s/step - loss: 0.7901 - acc: 0.6190 - val_loss: 0.8251 - val_acc: 0.6121\n",
      "Epoch 15/20\n",
      "81/81 [==============================] - 83s 1s/step - loss: 0.7815 - acc: 0.6132 - val_loss: 0.8289 - val_acc: 0.5947\n",
      "Epoch 16/20\n",
      "81/81 [==============================] - 95s 1s/step - loss: 0.7767 - acc: 0.6214 - val_loss: 0.8231 - val_acc: 0.5970\n",
      "Epoch 17/20\n",
      "81/81 [==============================] - 96s 1s/step - loss: 0.7661 - acc: 0.6179 - val_loss: 0.8261 - val_acc: 0.6039\n",
      "Epoch 18/20\n",
      "81/81 [==============================] - 96s 1s/step - loss: 0.7626 - acc: 0.6194 - val_loss: 0.8270 - val_acc: 0.5981\n",
      "Epoch 19/20\n",
      "81/81 [==============================] - 85s 1s/step - loss: 0.7460 - acc: 0.6345 - val_loss: 0.8196 - val_acc: 0.5981\n",
      "Epoch 20/20\n",
      "81/81 [==============================] - 85s 1s/step - loss: 0.7420 - acc: 0.6372 - val_loss: 0.8329 - val_acc: 0.5784\n"
     ]
    }
   ],
   "source": [
    "model_res_1 = model_1.fit(\n",
    "    img_train,\n",
    "    validation_data=(img_test),\n",
    "    callbacks = [es],\n",
    "    batch_size=64,\n",
    "    epochs=20\n",
    ")"
   ]
  },
  {
   "cell_type": "code",
   "execution_count": 94,
   "metadata": {
    "colab": {
     "base_uri": "https://localhost:8080/",
     "height": 472
    },
    "id": "vZxXp0SiBHsK",
    "outputId": "bd13a0f8-f2f1-451a-c5c8-92f22d27c2b7"
   },
   "outputs": [
    {
     "data": {
      "image/png": "[encoded data removed]",
      "text/plain": [
       "<Figure size 640x480 with 1 Axes>"
      ]
     },
     "metadata": {},
     "output_type": "display_data"
    }
   ],
   "source": [
    "plt.plot(model_res_1.history['loss'], label = 'Train')\n",
    "plt.plot(model_res_1.history['val_loss'], label = 'Test')\n",
    "plt.title('Loss Function Over Epochs')\n",
    "plt.xlabel('Epoch')\n",
    "plt.ylabel('Loss Function Value')\n",
    "plt.legend();"
   ]
  },
  {
   "cell_type": "code",
   "execution_count": 9,
   "metadata": {
    "id": "PzsKtRGGPzWa"
   },
   "outputs": [],
   "source": [
    "# VGG16 Model\n",
    "\n",
    "import tensorflow as tf\n",
    "from tensorflow.keras.applications import VGG16\n",
    "from tensorflow.keras.applications.vgg16 import preprocess_input\n",
    "from tensorflow.keras.optimizers import Adam\n",
    "from tensorflow.keras.preprocessing.image import ImageDataGenerator\n",
    "from tensorflow.keras import layers"
   ]
  },
  {
   "cell_type": "code",
   "execution_count": 2,
   "metadata": {
    "id": "46qsOjdIPziL"
   },
   "outputs": [],
   "source": [
    "img_size = [224, 224]"
   ]
  },
  {
   "cell_type": "code",
   "execution_count": 14,
   "metadata": {
    "id": "C0nVc4tNPzs3"
   },
   "outputs": [],
   "source": [
    "train_path = 'drive/MyDrive/spectrograms/train'\n",
    "test_path = 'drive/MyDrive/spectrograms/test'"
   ]
  },
  {
   "cell_type": "code",
   "execution_count": 3,
   "metadata": {
    "colab": {
     "base_uri": "https://localhost:8080/"
    },
    "id": "ZA7yla4SPz2E",
    "outputId": "075a3e78-ccdf-4be0-d4fc-f20170da6c9b"
   },
   "outputs": [
    {
     "name": "stdout",
     "output_type": "stream",
     "text": [
      "Downloading data from https://storage.googleapis.com/tensorflow/keras-applications/vgg16/vgg16_weights_tf_dim_ordering_tf_kernels_notop.h5\n",
      "58889256/58889256 [==============================] - 1s 0us/step\n"
     ]
    }
   ],
   "source": [
    "base_model = VGG16(weights='imagenet', include_top=False, input_shape=(224, 224, 3))"
   ]
  },
  {
   "cell_type": "code",
   "execution_count": 4,
   "metadata": {
    "id": "6sblcdsHZURu"
   },
   "outputs": [],
   "source": [
    "for layer in base_model.layers:\n",
    "    layer.trainable = False"
   ]
  },
  {
   "cell_type": "code",
   "execution_count": 10,
   "metadata": {
    "id": "yiCh7x2fZUYh"
   },
   "outputs": [],
   "source": [
    "model = Sequential([\n",
    "    base_model,\n",
    "    layers.Flatten(),\n",
    "    layers.Dense(64, activation='relu'),\n",
    "    Dropout(0.1),\n",
    "    layers.Dense(128, activation='relu'),\n",
    "    Dropout(0.4),\n",
    "    Dense(1, activation='sigmoid')  # Adjust the number of output classes as needed\n",
    "])\n"
   ]
  },
  {
   "cell_type": "code",
   "execution_count": 11,
   "metadata": {
    "id": "OCFTopkXZUgo"
   },
   "outputs": [],
   "source": [
    "model.compile(optimizer='adam', loss='binary_crossentropy', metrics=['accuracy'])"
   ]
  },
  {
   "cell_type": "code",
   "execution_count": 15,
   "metadata": {
    "colab": {
     "base_uri": "https://localhost:8080/"
    },
    "id": "OzQnKPRkel6g",
    "outputId": "abbfcdb9-16e4-4c2f-e322-fecf6c3150bb"
   },
   "outputs": [
    {
     "name": "stdout",
     "output_type": "stream",
     "text": [
      "Found 0 images belonging to 0 classes.\n"
     ]
    }
   ],
   "source": [
    "train_datagen = ImageDataGenerator(\n",
    "    preprocessing_function = preprocess_input,\n",
    "    rotation_range=40,\n",
    "    width_shift_range=0.2,\n",
    "    height_shift_range=0.2)\n",
    "\n",
    "train_generator = train_datagen.flow_from_directory(\n",
    "    train_path,\n",
    "    target_size=(224, 224),\n",
    "    batch_size=32,\n",
    "    class_mode='binary')\n"
   ]
  },
  {
   "cell_type": "code",
   "execution_count": null,
   "metadata": {
    "id": "5-WzltBAelyr"
   },
   "outputs": [],
   "source": [
    "test_datagen = ImageDataGenerator(\n",
    "    preprocessing_function = preprocess_input,\n",
    "    rotation_range=40,\n",
    "    width_shift_range=0.2,\n",
    "    height_shift_range=0.2)\n",
    "\n",
    "test_generator = test_datagen.flow_from_directory(\n",
    "    test_path,\n",
    "    target_size=(224, 224),\n",
    "    batch_size=32,\n",
    "    class_mode='binary')"
   ]
  },
  {
   "cell_type": "code",
   "execution_count": null,
   "metadata": {
    "id": "gpxJouYEelqH"
   },
   "outputs": [],
   "source": [
    "model.fit(\n",
    "    train_generator,\n",
    "    steps_per_epoch=train_generator.samples // batch_size,\n",
    "    epochs=epochs)\n"
   ]
  },
  {
   "cell_type": "code",
   "execution_count": null,
   "metadata": {
    "id": "ailrVsEleli9"
   },
   "outputs": [],
   "source": []
  },
  {
   "cell_type": "code",
   "execution_count": null,
   "metadata": {
    "id": "8cnQZhnCeQL8"
   },
   "outputs": [],
   "source": [
    "history = model.fit(train, )"
   ]
  }
 ],
 "metadata": {
  "colab": {
   "provenance": []
  },
  "kernelspec": {
   "display_name": "Python 3 (ipykernel)",
   "language": "python",
   "name": "python3"
  },
  "language_info": {
   "codemirror_mode": {
    "name": "ipython",
    "version": 3
   },
   "file_extension": ".py",
   "mimetype": "text/x-python",
   "name": "python",
   "nbconvert_exporter": "python",
   "pygments_lexer": "ipython3",
   "version": "3.11.4"
  }
 },
 "nbformat": 4,
 "nbformat_minor": 4
}
